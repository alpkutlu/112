{
  "nbformat": 4,
  "nbformat_minor": 0,
  "metadata": {
    "colab": {
      "provenance": []
    },
    "kernelspec": {
      "name": "python3",
      "display_name": "Python 3"
    },
    "language_info": {
      "name": "python"
    }
  },
  "cells": [
    {
      "source": [
        "# Importing the necessary liblaries\n",
        "import pandas as pd\n",
        "import matplotlib.pyplot as plt\n",
        "import seaborn as sns\n",
        "\n",
        "\n",
        "# Reading the CSV file with the correct delimiter\n",
        "df = pd.read_csv('Marketing-bank.csv', delimiter=';')\n",
        "\n",
        "# Count plot using Seaborn\n",
        "sns.set(style=\"whitegrid\")\n",
        "plt.figure(figsize=(10, 6))\n",
        "sns.countplot(x=\"Campaign_Type\", hue=\"Response\", data=df, palette=sns.color_palette())\n",
        "\n",
        "# Setting the title and X-Y axis\n",
        "plt.title('Responses Count by Campaign Type')\n",
        "plt.xlabel('Campaign Type')\n",
        "plt.ylabel('Count')\n",
        "\n",
        "# Showing the plot\n",
        "plt.show()"
      ],
      "cell_type": "code",
      "metadata": {
        "id": "5bjguGkDeCNY"
      },
      "execution_count": null,
      "outputs": []
    }
  ]
}