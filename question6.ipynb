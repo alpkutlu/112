{
  "nbformat": 4,
  "nbformat_minor": 0,
  "metadata": {
    "colab": {
      "provenance": []
    },
    "kernelspec": {
      "name": "python3",
      "display_name": "Python 3"
    },
    "language_info": {
      "name": "python"
    }
  },
  "cells": [
    {
      "cell_type": "code",
      "source": [
        "import seaborn as sns\n",
        "import matplotlib.pyplot as plt\n",
        "import pandas as pd\n",
        "\n",
        "\n",
        "# Reading the CSV file with the correct delimiter\n",
        "df = pd.read_csv('Marketing-bank.csv', delimiter=';')\n",
        "\n",
        "# Scatter plot with regression line using Seaborn\n",
        "sns.set(style=\"whitegrid\")\n",
        "plt.figure(figsize=(10, 6))\n",
        "sns.regplot(x=\"Customer_Age\", y=\"Yearly_Income\", data=df, scatter_kws={'s': 100}, line_kws={'color': 'red'})\n",
        "\n",
        "# Setting the title and axis\n",
        "plt.title('How does Age Affect Yearly Income')\n",
        "plt.xlabel('Customer Age')\n",
        "plt.ylabel('Yearly Income')\n",
        "\n",
        "#Showing the plot\n",
        "plt.show()\n"
      ],
      "metadata": {
        "id": "TDV0uv46suQS"
      },
      "execution_count": null,
      "outputs": []
    }
  ]
}